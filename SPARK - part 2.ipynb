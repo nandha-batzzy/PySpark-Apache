{
 "cells": [
  {
   "cell_type": "code",
   "execution_count": 1,
   "metadata": {},
   "outputs": [],
   "source": [
    "import findspark\n",
    "findspark.init()"
   ]
  },
  {
   "cell_type": "code",
   "execution_count": 2,
   "metadata": {},
   "outputs": [],
   "source": [
    "from pyspark.sql import SparkSession\n",
    "from pyspark.sql.types import *\n",
    "from pyspark.sql.functions import *\n",
    "from pyspark.sql.types import  Row\n",
    "from datetime import datetime"
   ]
  },
  {
   "cell_type": "code",
   "execution_count": 3,
   "metadata": {},
   "outputs": [],
   "source": [
    "sc =SparkSession.builder.appName(\"Python Spark SQL basic example\").config(\"spark.some.config.option\", \"some-value\").getOrCreate()"
   ]
  },
  {
   "cell_type": "code",
   "execution_count": 4,
   "metadata": {},
   "outputs": [],
   "source": [
    "spark = SparkContext.getOrCreate()"
   ]
  },
  {
   "cell_type": "code",
   "execution_count": 5,
   "metadata": {},
   "outputs": [],
   "source": [
    "stu = spark.parallelize([Row(roll_no=1,name='John Doe',passed=True,marks={'Math':89,'Physics':87,'Chemistry':81},sports =['chess','football'], DoB=datetime(2012,5,1,13,1,5)), Row(roll_no=2,name='John Smith',passed=False,marks={'Math':29,'Physics':31,'Chemistry':36}, sports =['volleyball','tabletennis'], DoB=datetime(2012,5,12,14,2,5))])"
   ]
  },
  {
   "cell_type": "code",
   "execution_count": 6,
   "metadata": {},
   "outputs": [
    {
     "name": "stdout",
     "output_type": "stream",
     "text": [
      "+-------+----------+------+--------------------+--------------------+-------------------+\n",
      "|roll_no|      name|passed|               marks|              sports|                DoB|\n",
      "+-------+----------+------+--------------------+--------------------+-------------------+\n",
      "|      1|  John Doe|  true|{Chemistry -> 81,...|   [chess, football]|2012-05-01 13:01:05|\n",
      "|      2|John Smith| false|{Chemistry -> 36,...|[volleyball, tabl...|2012-05-12 14:02:05|\n",
      "+-------+----------+------+--------------------+--------------------+-------------------+\n",
      "\n"
     ]
    }
   ],
   "source": [
    "student_rec = stu.toDF()\n",
    "student_rec.show()"
   ]
  },
  {
   "cell_type": "markdown",
   "metadata": {},
   "source": [
    "truncate will show full content of the table"
   ]
  },
  {
   "cell_type": "code",
   "execution_count": 7,
   "metadata": {},
   "outputs": [
    {
     "name": "stdout",
     "output_type": "stream",
     "text": [
      "+-------+----------+------+--------------------------------------------+-------------------------+-------------------+\n",
      "|roll_no|name      |passed|marks                                       |sports                   |DoB                |\n",
      "+-------+----------+------+--------------------------------------------+-------------------------+-------------------+\n",
      "|1      |John Doe  |true  |{Chemistry -> 81, Math -> 89, Physics -> 87}|[chess, football]        |2012-05-01 13:01:05|\n",
      "|2      |John Smith|false |{Chemistry -> 36, Math -> 29, Physics -> 31}|[volleyball, tabletennis]|2012-05-12 14:02:05|\n",
      "+-------+----------+------+--------------------------------------------+-------------------------+-------------------+\n",
      "\n"
     ]
    }
   ],
   "source": [
    "student_rec.show(truncate=False)"
   ]
  },
  {
   "cell_type": "code",
   "execution_count": 8,
   "metadata": {},
   "outputs": [],
   "source": [
    "student_rec.createOrReplaceTempView('records')"
   ]
  },
  {
   "cell_type": "code",
   "execution_count": 9,
   "metadata": {},
   "outputs": [
    {
     "name": "stdout",
     "output_type": "stream",
     "text": [
      "+-------+----------+------+--------------------+--------------------+-------------------+\n",
      "|roll_no|      name|passed|               marks|              sports|                DoB|\n",
      "+-------+----------+------+--------------------+--------------------+-------------------+\n",
      "|      1|  John Doe|  true|{Chemistry -> 81,...|   [chess, football]|2012-05-01 13:01:05|\n",
      "|      2|John Smith| false|{Chemistry -> 36,...|[volleyball, tabl...|2012-05-12 14:02:05|\n",
      "+-------+----------+------+--------------------+--------------------+-------------------+\n",
      "\n"
     ]
    }
   ],
   "source": [
    "sc.sql(\"SELECT * FROM records\").show()"
   ]
  },
  {
   "cell_type": "markdown",
   "metadata": {},
   "source": [
    "##### Accessing elements and records inside a column"
   ]
  },
  {
   "cell_type": "code",
   "execution_count": 10,
   "metadata": {},
   "outputs": [
    {
     "name": "stdout",
     "output_type": "stream",
     "text": [
      "+-------+--------------+-----------+\n",
      "|roll_no|marks[Physics]|  sports[1]|\n",
      "+-------+--------------+-----------+\n",
      "|      1|            87|   football|\n",
      "|      2|            31|tabletennis|\n",
      "+-------+--------------+-----------+\n",
      "\n"
     ]
    }
   ],
   "source": [
    "sc.sql('SELECT roll_no, marks[\"Physics\"] ,sports[1] FROM records').show()"
   ]
  },
  {
   "cell_type": "markdown",
   "metadata": {},
   "source": [
    "###### Where Clause"
   ]
  },
  {
   "cell_type": "code",
   "execution_count": 16,
   "metadata": {},
   "outputs": [
    {
     "name": "stdout",
     "output_type": "stream",
     "text": [
      "+-------+--------+------+--------------------+-----------------+-------------------+\n",
      "|roll_no|    name|passed|               marks|           sports|                DoB|\n",
      "+-------+--------+------+--------------------+-----------------+-------------------+\n",
      "|      1|John Doe|  true|{Chemistry -> 81,...|[chess, football]|2012-05-01 13:01:05|\n",
      "+-------+--------+------+--------------------+-----------------+-------------------+\n",
      "\n"
     ]
    }
   ],
   "source": [
    "sc.sql('SELECT * FROM records WHERE passed = True').show()"
   ]
  },
  {
   "cell_type": "code",
   "execution_count": 17,
   "metadata": {},
   "outputs": [
    {
     "name": "stdout",
     "output_type": "stream",
     "text": [
      "+-------+----------+------+--------------------+--------------------+-------------------+\n",
      "|roll_no|      name|passed|               marks|              sports|                DoB|\n",
      "+-------+----------+------+--------------------+--------------------+-------------------+\n",
      "|      2|John Smith| false|{Chemistry -> 36,...|[volleyball, tabl...|2012-05-12 14:02:05|\n",
      "+-------+----------+------+--------------------+--------------------+-------------------+\n",
      "\n"
     ]
    }
   ],
   "source": [
    "sc.sql('SELECT * FROM records WHERE marks[\"Chemistry\"] < 40').show()"
   ]
  },
  {
   "cell_type": "markdown",
   "metadata": {},
   "source": [
    "the view that we have created above have only scope on current session. in order to make it as global view session we use  the following command"
   ]
  },
  {
   "cell_type": "code",
   "execution_count": 18,
   "metadata": {},
   "outputs": [
    {
     "name": "stdout",
     "output_type": "stream",
     "text": [
      "+-------+----------+------+--------------------+--------------------+-------------------+\n",
      "|roll_no|      name|passed|               marks|              sports|                DoB|\n",
      "+-------+----------+------+--------------------+--------------------+-------------------+\n",
      "|      1|  John Doe|  true|{Chemistry -> 81,...|   [chess, football]|2012-05-01 13:01:05|\n",
      "|      2|John Smith| false|{Chemistry -> 36,...|[volleyball, tabl...|2012-05-12 14:02:05|\n",
      "+-------+----------+------+--------------------+--------------------+-------------------+\n",
      "\n"
     ]
    }
   ],
   "source": [
    "student_rec.createGlobalTempView(\"Global_rec\")\n",
    "sc.sql(\"SELECT * FROM global_temp.Global_rec\").show()"
   ]
  },
  {
   "cell_type": "markdown",
   "metadata": {},
   "source": [
    "###### To see the columns"
   ]
  },
  {
   "cell_type": "code",
   "execution_count": 19,
   "metadata": {},
   "outputs": [
    {
     "data": {
      "text/plain": [
       "['roll_no', 'name', 'passed', 'marks', 'sports', 'DoB']"
      ]
     },
     "execution_count": 19,
     "metadata": {},
     "output_type": "execute_result"
    }
   ],
   "source": [
    "student_rec.columns"
   ]
  },
  {
   "cell_type": "markdown",
   "metadata": {},
   "source": [
    "###### To Drop the columns we dont need"
   ]
  },
  {
   "cell_type": "code",
   "execution_count": 20,
   "metadata": {},
   "outputs": [
    {
     "data": {
      "text/plain": [
       "DataFrame[roll_no: bigint, name: string, marks: map<string,bigint>, sports: array<string>, DoB: timestamp]"
      ]
     },
     "execution_count": 20,
     "metadata": {},
     "output_type": "execute_result"
    }
   ],
   "source": [
    "student_rec.drop('passed')"
   ]
  },
  {
   "cell_type": "markdown",
   "metadata": {},
   "source": [
    "###### Average of the marks"
   ]
  },
  {
   "cell_type": "code",
   "execution_count": 24,
   "metadata": {},
   "outputs": [
    {
     "name": "stdout",
     "output_type": "stream",
     "text": [
      "+-------+----------+------+--------------------+--------------------+-------------------+---------+\n",
      "|roll_no|      name|passed|               marks|              sports|                DoB|avg_marks|\n",
      "+-------+----------+------+--------------------+--------------------+-------------------+---------+\n",
      "|      1|  John Doe|  true|{Chemistry -> 81,...|   [chess, football]|2012-05-01 13:01:05|     86.0|\n",
      "|      2|John Smith| false|{Chemistry -> 36,...|[volleyball, tabl...|2012-05-12 14:02:05|     32.0|\n",
      "+-------+----------+------+--------------------+--------------------+-------------------+---------+\n",
      "\n"
     ]
    }
   ],
   "source": [
    "sc.sql(\"SELECT *, round( (marks.Physics+marks.Chemistry+marks.Math)/3) avg_marks FROM records\").show()"
   ]
  },
  {
   "cell_type": "markdown",
   "metadata": {},
   "source": [
    "##### Adding the avg column to the existing table "
   ]
  },
  {
   "cell_type": "code",
   "execution_count": 25,
   "metadata": {},
   "outputs": [
    {
     "name": "stdout",
     "output_type": "stream",
     "text": [
      "+-------+----------+------+--------------------+--------------------+-------------------+---------+\n",
      "|roll_no|      name|passed|               marks|              sports|                DoB|avg_marks|\n",
      "+-------+----------+------+--------------------+--------------------+-------------------+---------+\n",
      "|      1|  John Doe|  true|{Chemistry -> 81,...|   [chess, football]|2012-05-01 13:01:05|     86.0|\n",
      "|      2|John Smith| false|{Chemistry -> 36,...|[volleyball, tabl...|2012-05-12 14:02:05|     32.0|\n",
      "+-------+----------+------+--------------------+--------------------+-------------------+---------+\n",
      "\n"
     ]
    }
   ],
   "source": [
    "student_rec = sc.sql('SELECT *, round( (marks.Physics+marks.Chemistry+marks.Math)/3) avg_marks FROM records')\n",
    "student_rec.show()"
   ]
  },
  {
   "cell_type": "markdown",
   "metadata": {},
   "source": [
    " inserting new column in order to find the status of the student pass or fail  "
   ]
  },
  {
   "cell_type": "markdown",
   "metadata": {},
   "source": [
    "First we must update new view again"
   ]
  },
  {
   "cell_type": "code",
   "execution_count": 26,
   "metadata": {},
   "outputs": [],
   "source": [
    "student_rec.createOrReplaceTempView(\"records\")"
   ]
  },
  {
   "cell_type": "code",
   "execution_count": 27,
   "metadata": {},
   "outputs": [
    {
     "name": "stdout",
     "output_type": "stream",
     "text": [
      "+-------+----------+------+--------------------+--------------------+-------------------+---------+------+\n",
      "|roll_no|      name|passed|               marks|              sports|                DoB|avg_marks|status|\n",
      "+-------+----------+------+--------------------+--------------------+-------------------+---------+------+\n",
      "|      1|  John Doe|  true|{Chemistry -> 81,...|   [chess, football]|2012-05-01 13:01:05|     86.0|passed|\n",
      "|      2|John Smith| false|{Chemistry -> 36,...|[volleyball, tabl...|2012-05-12 14:02:05|     32.0|failed|\n",
      "+-------+----------+------+--------------------+--------------------+-------------------+---------+------+\n",
      "\n"
     ]
    }
   ],
   "source": [
    "student_rec = student_rec.withColumn('status', (when(col(\"avg_marks\")>=40,\"passed\")).otherwise(\"failed\"))\n",
    "student_rec.show()"
   ]
  },
  {
   "cell_type": "markdown",
   "metadata": {},
   "source": [
    "#### Reading A CSV file"
   ]
  },
  {
   "cell_type": "code",
   "execution_count": 11,
   "metadata": {},
   "outputs": [],
   "source": [
    "df =sc.read.format(\"csv\").option(\"header\",\"true\").option(\"mode\", \"DROPMALFORMED\").load(\"titanic_train.csv\")\n"
   ]
  },
  {
   "cell_type": "code",
   "execution_count": 12,
   "metadata": {},
   "outputs": [
    {
     "name": "stdout",
     "output_type": "stream",
     "text": [
      "+-----------+--------+------+--------------------+------+----+-----+-----+----------------+-------+-----+--------+\n",
      "|PassengerId|Survived|Pclass|                Name|   Sex| Age|SibSp|Parch|          Ticket|   Fare|Cabin|Embarked|\n",
      "+-----------+--------+------+--------------------+------+----+-----+-----+----------------+-------+-----+--------+\n",
      "|          1|       0|     3|Braund, Mr. Owen ...|  male|  22|    1|    0|       A/5 21171|   7.25| null|       S|\n",
      "|          2|       1|     1|Cumings, Mrs. Joh...|female|  38|    1|    0|        PC 17599|71.2833|  C85|       C|\n",
      "|          3|       1|     3|Heikkinen, Miss. ...|female|  26|    0|    0|STON/O2. 3101282|  7.925| null|       S|\n",
      "|          4|       1|     1|Futrelle, Mrs. Ja...|female|  35|    1|    0|          113803|   53.1| C123|       S|\n",
      "|          5|       0|     3|Allen, Mr. Willia...|  male|  35|    0|    0|          373450|   8.05| null|       S|\n",
      "|          6|       0|     3|    Moran, Mr. James|  male|null|    0|    0|          330877| 8.4583| null|       Q|\n",
      "|          7|       0|     1|McCarthy, Mr. Tim...|  male|  54|    0|    0|           17463|51.8625|  E46|       S|\n",
      "|          8|       0|     3|Palsson, Master. ...|  male|   2|    3|    1|          349909| 21.075| null|       S|\n",
      "|          9|       1|     3|Johnson, Mrs. Osc...|female|  27|    0|    2|          347742|11.1333| null|       S|\n",
      "|         10|       1|     2|Nasser, Mrs. Nich...|female|  14|    1|    0|          237736|30.0708| null|       C|\n",
      "|         11|       1|     3|Sandstrom, Miss. ...|female|   4|    1|    1|         PP 9549|   16.7|   G6|       S|\n",
      "|         12|       1|     1|Bonnell, Miss. El...|female|  58|    0|    0|          113783|  26.55| C103|       S|\n",
      "|         13|       0|     3|Saundercock, Mr. ...|  male|  20|    0|    0|       A/5. 2151|   8.05| null|       S|\n",
      "|         14|       0|     3|Andersson, Mr. An...|  male|  39|    1|    5|          347082| 31.275| null|       S|\n",
      "|         15|       0|     3|Vestrom, Miss. Hu...|female|  14|    0|    0|          350406| 7.8542| null|       S|\n",
      "|         16|       1|     2|Hewlett, Mrs. (Ma...|female|  55|    0|    0|          248706|     16| null|       S|\n",
      "|         17|       0|     3|Rice, Master. Eugene|  male|   2|    4|    1|          382652| 29.125| null|       Q|\n",
      "|         18|       1|     2|Williams, Mr. Cha...|  male|null|    0|    0|          244373|     13| null|       S|\n",
      "|         19|       0|     3|Vander Planke, Mr...|female|  31|    1|    0|          345763|     18| null|       S|\n",
      "|         20|       1|     3|Masselmani, Mrs. ...|female|null|    0|    0|            2649|  7.225| null|       C|\n",
      "+-----------+--------+------+--------------------+------+----+-----+-----+----------------+-------+-----+--------+\n",
      "only showing top 20 rows\n",
      "\n"
     ]
    }
   ],
   "source": [
    "df.show(truncate=True)"
   ]
  },
  {
   "cell_type": "code",
   "execution_count": 13,
   "metadata": {},
   "outputs": [],
   "source": [
    "df.createOrReplaceTempView(\"newrec\")"
   ]
  },
  {
   "cell_type": "code",
   "execution_count": 14,
   "metadata": {},
   "outputs": [
    {
     "name": "stdout",
     "output_type": "stream",
     "text": [
      "+-----------+--------+------+--------------------+------+----+-----+-----+----------------+-------+-----+--------+\n",
      "|PassengerId|Survived|Pclass|                Name|   Sex| Age|SibSp|Parch|          Ticket|   Fare|Cabin|Embarked|\n",
      "+-----------+--------+------+--------------------+------+----+-----+-----+----------------+-------+-----+--------+\n",
      "|          1|       0|     3|Braund, Mr. Owen ...|  male|  22|    1|    0|       A/5 21171|   7.25| null|       S|\n",
      "|          2|       1|     1|Cumings, Mrs. Joh...|female|  38|    1|    0|        PC 17599|71.2833|  C85|       C|\n",
      "|          3|       1|     3|Heikkinen, Miss. ...|female|  26|    0|    0|STON/O2. 3101282|  7.925| null|       S|\n",
      "|          4|       1|     1|Futrelle, Mrs. Ja...|female|  35|    1|    0|          113803|   53.1| C123|       S|\n",
      "|          5|       0|     3|Allen, Mr. Willia...|  male|  35|    0|    0|          373450|   8.05| null|       S|\n",
      "|          6|       0|     3|    Moran, Mr. James|  male|null|    0|    0|          330877| 8.4583| null|       Q|\n",
      "|          7|       0|     1|McCarthy, Mr. Tim...|  male|  54|    0|    0|           17463|51.8625|  E46|       S|\n",
      "|          8|       0|     3|Palsson, Master. ...|  male|   2|    3|    1|          349909| 21.075| null|       S|\n",
      "|          9|       1|     3|Johnson, Mrs. Osc...|female|  27|    0|    2|          347742|11.1333| null|       S|\n",
      "|         10|       1|     2|Nasser, Mrs. Nich...|female|  14|    1|    0|          237736|30.0708| null|       C|\n",
      "|         11|       1|     3|Sandstrom, Miss. ...|female|   4|    1|    1|         PP 9549|   16.7|   G6|       S|\n",
      "|         12|       1|     1|Bonnell, Miss. El...|female|  58|    0|    0|          113783|  26.55| C103|       S|\n",
      "|         13|       0|     3|Saundercock, Mr. ...|  male|  20|    0|    0|       A/5. 2151|   8.05| null|       S|\n",
      "|         14|       0|     3|Andersson, Mr. An...|  male|  39|    1|    5|          347082| 31.275| null|       S|\n",
      "|         15|       0|     3|Vestrom, Miss. Hu...|female|  14|    0|    0|          350406| 7.8542| null|       S|\n",
      "|         16|       1|     2|Hewlett, Mrs. (Ma...|female|  55|    0|    0|          248706|     16| null|       S|\n",
      "|         17|       0|     3|Rice, Master. Eugene|  male|   2|    4|    1|          382652| 29.125| null|       Q|\n",
      "|         18|       1|     2|Williams, Mr. Cha...|  male|null|    0|    0|          244373|     13| null|       S|\n",
      "|         19|       0|     3|Vander Planke, Mr...|female|  31|    1|    0|          345763|     18| null|       S|\n",
      "|         20|       1|     3|Masselmani, Mrs. ...|female|null|    0|    0|            2649|  7.225| null|       C|\n",
      "+-----------+--------+------+--------------------+------+----+-----+-----+----------------+-------+-----+--------+\n",
      "only showing top 20 rows\n",
      "\n"
     ]
    }
   ],
   "source": [
    "sc.sql(\"SELECT * FROM newrec\").show()"
   ]
  },
  {
   "cell_type": "code",
   "execution_count": null,
   "metadata": {},
   "outputs": [],
   "source": []
  }
 ],
 "metadata": {
  "kernelspec": {
   "display_name": "Python 3",
   "language": "python",
   "name": "python3"
  },
  "language_info": {
   "codemirror_mode": {
    "name": "ipython",
    "version": 3
   },
   "file_extension": ".py",
   "mimetype": "text/x-python",
   "name": "python",
   "nbconvert_exporter": "python",
   "pygments_lexer": "ipython3",
   "version": "3.9.2"
  }
 },
 "nbformat": 4,
 "nbformat_minor": 4
}
